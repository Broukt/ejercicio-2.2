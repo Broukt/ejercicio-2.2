{
 "cells": [
  {
   "cell_type": "markdown",
   "id": "ea97f271",
   "metadata": {},
   "source": [
    "## Ejercicio 2.2: Modelo de regresión logística que predice si un individuo tendrá una cita en el día de San Valentín o no."
   ]
  },
  {
   "cell_type": "markdown",
   "id": "ee1ef9ab",
   "metadata": {},
   "source": [
    "**Enunciado**\n",
    "\n",
    "Se tiene el siguiente conjunto de datos sintéticos creado para permitir a los aspirantes a científicos o analistas de datos llevar a cabo expreimentos predictivos mediante la construcción de un modelo de aprendizaje automático que puede predecir si un individuo obtendrá una cita de San Valentín o no.\n",
    "\n",
    "El conjunto de datos tiene las siguientes características:\n",
    "\n",
    "- Name: el nombre ficticio de una persona.\n",
    "- Age: la edad ficticia de una persona.\n",
    "- Gender: el género de  una persona.\n",
    "- Income: lo que la persona gana anualmente como ingreso.\n",
    "- Appearance Score: esta característica representa una puntuación numérica que indica cómo se percibe a los individuos en función de su apariencia física.\n",
    "- Interest Score: esta característica representa una puntuación numérica que indica qué tan alineados o compatibles están los intereses de una persona con los de los demás.\n",
    "- Confidence Score: esta característica representa una puntuación numérica que indica el nivel de confianza percibido de un individuo.\n",
    "- Educational Status: esta característica representa el logro educativo o el nivel de educación de un individuo.\n",
    "- Job Type: esta característica representa el tipo de trabajo o situación laboral de un individuo.\n",
    "- Valentine Date: esta es una característica binaria utilizada para la clasificación binaria (0, 1), que indica si un individuo tiene una fecha de San Valentín (1) o no (0).\n",
    "\n",
    "El conjunto de datos se encuentra en el archivo: ***ValentineDataset.csv***.\n",
    "\n",
    "Utilizando un conjunto de datos proporcionado, realizar lo siguiente:\n",
    "\n",
    "<ol type=\"a\">\n",
    "<li>Cargar y explorar los datos.</li>\n",
    "<li>Hallar la matriz de correlación de los datos para determinar las variables más significativas a usar en el modelo.</li>\n",
    "<li>Dividir los datos en 90% para entrenamiento y el resto para prueba.</li>\n",
    "<li>Implementar un modelo de regresión logística utilizando Python y entrenarlo.</li>\n",
    "<li>Graficar la función de pérdida obtenida durante entrenamiento y analizarla.</li>\n",
    "<li>Evaluar el modelo utilizando la matriz de confusión y las métricas: precision, accuracy y recall.</li>\n",
    "</ol>\n",
    "\n"
   ]
  },
  {
   "cell_type": "markdown",
   "id": "4779df5b",
   "metadata": {},
   "source": [
    "### Importar librerías necesarias"
   ]
  },
  {
   "cell_type": "code",
   "execution_count": null,
   "id": "0a85d62e",
   "metadata": {},
   "outputs": [],
   "source": [
    "import pandas as pd\n",
    "import numpy as np\n",
    "from sklearn.model_selection import train_test_split\n",
    "import matplotlib.pyplot as plt"
   ]
  },
  {
   "cell_type": "markdown",
   "id": "3165b147",
   "metadata": {},
   "source": [
    "### Cargar y explorar los datos"
   ]
  },
  {
   "cell_type": "code",
   "execution_count": null,
   "id": "0734b0f9",
   "metadata": {},
   "outputs": [],
   "source": [
    "df = pd.read_csv('ValentineDataset.csv')\n",
    "df = df.dropna()\n",
    "df.head(20)"
   ]
  }
 ],
 "metadata": {
  "kernelspec": {
   "display_name": "env",
   "language": "python",
   "name": "python3"
  },
  "language_info": {
   "codemirror_mode": {
    "name": "ipython",
    "version": 3
   },
   "file_extension": ".py",
   "mimetype": "text/x-python",
   "name": "python",
   "nbconvert_exporter": "python",
   "pygments_lexer": "ipython3",
   "version": "3.11.2"
  }
 },
 "nbformat": 4,
 "nbformat_minor": 5
}
